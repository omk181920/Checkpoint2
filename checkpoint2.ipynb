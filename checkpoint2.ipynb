{
 "cells": [
  {
   "cell_type": "markdown",
   "id": "7f9e7778",
   "metadata": {},
   "source": [
    "# Question 1"
   ]
  },
  {
   "cell_type": "code",
   "execution_count": 5,
   "id": "b30baacb",
   "metadata": {},
   "outputs": [
    {
     "name": "stdout",
     "output_type": "stream",
     "text": [
      "what is your name Omar\n",
      "what is your family name KRARTI\n",
      "hello KRARTI Omar\n"
     ]
    },
    {
     "data": {
      "text/plain": [
       "('Omar', 'KRARTI')"
      ]
     },
     "execution_count": 5,
     "metadata": {},
     "output_type": "execute_result"
    }
   ],
   "source": [
    "def user (a, b):\n",
    "    str1 = input(\"what is your name \")\n",
    "    str2 = input(\"what is your family name \")\n",
    "    print(\"hello\", str2 + \" \" + str1)\n",
    "    return str1, str2\n",
    "user(\"Omar\", \"KRARTI\")"
   ]
  },
  {
   "cell_type": "markdown",
   "id": "61d0012e",
   "metadata": {},
   "source": [
    "# Question 2"
   ]
  },
  {
   "cell_type": "code",
   "execution_count": 19,
   "id": "1d5908f7",
   "metadata": {},
   "outputs": [
    {
     "name": "stdout",
     "output_type": "stream",
     "text": [
      "5\n",
      "615\n"
     ]
    }
   ],
   "source": [
    "n = input()\n",
    "a = int(n)\n",
    "b = int(n+n)\n",
    "c = int(n+n+n)\n",
    "d = a+b+c\n",
    "print(d)"
   ]
  },
  {
   "cell_type": "markdown",
   "id": "570314f3",
   "metadata": {},
   "source": [
    "# Question 3"
   ]
  },
  {
   "cell_type": "code",
   "execution_count": 4,
   "id": "c1559258",
   "metadata": {},
   "outputs": [
    {
     "name": "stdout",
     "output_type": "stream",
     "text": [
      "16 est un nombre pair\n"
     ]
    },
    {
     "data": {
      "text/plain": [
       "16"
      ]
     },
     "execution_count": 4,
     "metadata": {},
     "output_type": "execute_result"
    }
   ],
   "source": [
    "def pair_or_impair(a):\n",
    "    if (a % 2 == 0):\n",
    "        print(a, \"est un nombre pair\")\n",
    "    else :\n",
    "        print(a,\"est un nombre impair\")\n",
    "    return a\n",
    "pair_or_impair(16)"
   ]
  },
  {
   "cell_type": "markdown",
   "id": "77bd334d",
   "metadata": {},
   "source": [
    "# Question 4"
   ]
  },
  {
   "cell_type": "code",
   "execution_count": 1,
   "id": "9be9265e",
   "metadata": {},
   "outputs": [
    {
     "name": "stdout",
     "output_type": "stream",
     "text": [
      " 2002 2009 2016 2023 2037 2044 2051 2058 2072 2079 2086 2093 2107 2114 2121 2128 2142 2149 2156 2163 2177 2184 2191 2198 2212 2219 2226 2233 2247 2254 2261 2268 2282 2289 2296 2303 2317 2324 2331 2338 2352 2359 2366 2373 2387 2394 2401 2408 2422 2429 2436 2443 2457 2464 2471 2478 2492 2499 2506 2513 2527 2534 2541 2548 2562 2569 2576 2583 2597 2604 2611 2618 2632 2639 2646 2653 2667 2674 2681 2688 2702 2709 2716 2723 2737 2744 2751 2758 2772 2779 2786 2793 2807 2814 2821 2828 2842 2849 2856 2863 2877 2884 2891 2898 2912 2919 2926 2933 2947 2954 2961 2968 2982 2989 2996 3003 3017 3024 3031 3038 3052 3059 3066 3073 3087 3094 3101 3108 3122 3129 3136 3143 3157 3164 3171 3178 3192 3199\n"
     ]
    }
   ],
   "source": [
    "number = \"\"\n",
    "for i in range(2000, 3201):\n",
    "    if (i%7==0) and (i%5!=0):\n",
    "        i = str(i)\n",
    "        number = number + \" \" + i\n",
    "print(number)"
   ]
  },
  {
   "cell_type": "markdown",
   "id": "a2f838f8",
   "metadata": {},
   "source": [
    "# Question 5"
   ]
  },
  {
   "cell_type": "code",
   "execution_count": 9,
   "id": "eca9715c",
   "metadata": {},
   "outputs": [
    {
     "data": {
      "text/plain": [
       "40320"
      ]
     },
     "execution_count": 9,
     "metadata": {},
     "output_type": "execute_result"
    }
   ],
   "source": [
    "def factorial(a):\n",
    "    prod = 1\n",
    "    if a >= 1 :\n",
    "        for i in range (1, a+1):\n",
    "            prod *= i\n",
    "    return prod\n",
    "factorial(8)"
   ]
  },
  {
   "cell_type": "markdown",
   "id": "4ef4d6b9",
   "metadata": {},
   "source": [
    "# Question 6"
   ]
  },
  {
   "cell_type": "code",
   "execution_count": 4,
   "id": "b92e3e74",
   "metadata": {},
   "outputs": [
    {
     "name": "stdout",
     "output_type": "stream",
     "text": [
      "Please Enter your Own String : Hello Team\n",
      "Original String :   Hello Team\n",
      "Final String :       HloTa\n"
     ]
    }
   ],
   "source": [
    "str1 = input(\"Please Enter your Own String : \")\n",
    "\n",
    "str2 = \" \"\n",
    "\n",
    "for i in range(len(str1)):\n",
    "    if(i % 2 == 0):\n",
    "        str2 += str1[i]\n",
    "        \n",
    "print(\"Original String :  \", str1)\n",
    "print(\"Final String :     \", str2)"
   ]
  },
  {
   "cell_type": "markdown",
   "id": "cf09496e",
   "metadata": {},
   "source": [
    "# Question 7"
   ]
  },
  {
   "cell_type": "code",
   "execution_count": 7,
   "id": "0735a6a3",
   "metadata": {},
   "outputs": [
    {
     "name": "stdout",
     "output_type": "stream",
     "text": [
      "499\n",
      "Le nouveau prix est 349.29999999999995\n"
     ]
    }
   ],
   "source": [
    "price = int(input())\n",
    "new_number = float()\n",
    "if price >=500 :\n",
    "    new_number = price * 0.5\n",
    "elif price >= 200 and price <= 500 :\n",
    "    new_number = price *0.7\n",
    "elif price < 200 :\n",
    "    new_number = price* 0.9\n",
    "print(\"Le nouveau prix est\", new_number)"
   ]
  },
  {
   "cell_type": "code",
   "execution_count": null,
   "id": "f5707a90",
   "metadata": {},
   "outputs": [],
   "source": []
  }
 ],
 "metadata": {
  "kernelspec": {
   "display_name": "Python 3",
   "language": "python",
   "name": "python3"
  },
  "language_info": {
   "codemirror_mode": {
    "name": "ipython",
    "version": 3
   },
   "file_extension": ".py",
   "mimetype": "text/x-python",
   "name": "python",
   "nbconvert_exporter": "python",
   "pygments_lexer": "ipython3",
   "version": "3.8.8"
  }
 },
 "nbformat": 4,
 "nbformat_minor": 5
}
